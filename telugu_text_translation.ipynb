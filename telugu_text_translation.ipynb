{
  "nbformat": 4,
  "nbformat_minor": 0,
  "metadata": {
    "colab": {
      "provenance": [],
      "authorship_tag": "ABX9TyOV0udUMJ0Ich+9Kp59xu14",
      "include_colab_link": true
    },
    "kernelspec": {
      "name": "python3",
      "display_name": "Python 3"
    },
    "language_info": {
      "name": "python"
    }
  },
  "cells": [
    {
      "cell_type": "markdown",
      "metadata": {
        "id": "view-in-github",
        "colab_type": "text"
      },
      "source": [
        "<a href=\"https://colab.research.google.com/github/Darkunquie/my-projects/blob/main/telugu_text_translation.ipynb\" target=\"_parent\"><img src=\"https://colab.research.google.com/assets/colab-badge.svg\" alt=\"Open In Colab\"/></a>"
      ]
    },
    {
      "cell_type": "code",
      "execution_count": 1,
      "metadata": {
        "colab": {
          "base_uri": "https://localhost:8080/"
        },
        "id": "Ph0SiQpPw2My",
        "outputId": "146e37b4-631b-45ac-dc64-69f86b7a2f86"
      },
      "outputs": [
        {
          "output_type": "stream",
          "name": "stdout",
          "text": [
            "Collecting SpeechRecognition\n",
            "  Downloading SpeechRecognition-3.10.4-py2.py3-none-any.whl.metadata (28 kB)\n",
            "Collecting gTTS\n",
            "  Downloading gTTS-2.5.3-py3-none-any.whl.metadata (4.1 kB)\n",
            "Requirement already satisfied: requests>=2.26.0 in /usr/local/lib/python3.10/dist-packages (from SpeechRecognition) (2.32.3)\n",
            "Requirement already satisfied: typing-extensions in /usr/local/lib/python3.10/dist-packages (from SpeechRecognition) (4.12.2)\n",
            "Requirement already satisfied: click<8.2,>=7.1 in /usr/local/lib/python3.10/dist-packages (from gTTS) (8.1.7)\n",
            "Requirement already satisfied: charset-normalizer<4,>=2 in /usr/local/lib/python3.10/dist-packages (from requests>=2.26.0->SpeechRecognition) (3.3.2)\n",
            "Requirement already satisfied: idna<4,>=2.5 in /usr/local/lib/python3.10/dist-packages (from requests>=2.26.0->SpeechRecognition) (3.10)\n",
            "Requirement already satisfied: urllib3<3,>=1.21.1 in /usr/local/lib/python3.10/dist-packages (from requests>=2.26.0->SpeechRecognition) (2.2.3)\n",
            "Requirement already satisfied: certifi>=2017.4.17 in /usr/local/lib/python3.10/dist-packages (from requests>=2.26.0->SpeechRecognition) (2024.8.30)\n",
            "Downloading SpeechRecognition-3.10.4-py2.py3-none-any.whl (32.8 MB)\n",
            "\u001b[2K   \u001b[90m━━━━━━━━━━━━━━━━━━━━━━━━━━━━━━━━━━━━━━━━\u001b[0m \u001b[32m32.8/32.8 MB\u001b[0m \u001b[31m53.9 MB/s\u001b[0m eta \u001b[36m0:00:00\u001b[0m\n",
            "\u001b[?25hDownloading gTTS-2.5.3-py3-none-any.whl (29 kB)\n",
            "Installing collected packages: SpeechRecognition, gTTS\n",
            "Successfully installed SpeechRecognition-3.10.4 gTTS-2.5.3\n"
          ]
        }
      ],
      "source": [
        "!pip install SpeechRecognition gTTS"
      ]
    },
    {
      "cell_type": "code",
      "source": [
        "import speech_recognition as sr\n",
        "from gtts import gTTS\n",
        "\n",
        "def convert_audio(audio_file, target_language='en'):\n",
        "  r = sr.Recognizer()\n",
        "  with sr.AudioFile(audio_file) as source:\n",
        "    audio = r.record(source)\n",
        "  try:\n",
        "    text = r.recognize_google(audio, language='te-IN')\n",
        "    print(\"Transcription:\", text)\n",
        "    tts = gTTS(text=text, lang=target_language)\n",
        "    tts.save(\"output.mp3\")\n",
        "    print(\"Audio saved to output.mp3\")\n",
        "  except sr.UnknownValueError:\n",
        "    print(\"Could not understand audio\")\n",
        "  except sr.RequestError as e:\n",
        "    print(f\"Could not request results; {e}\")\n",
        "    return\n",
        "convert_audio(\"/content/PK_4_V4_S6.wav\", target_language='en')"
      ],
      "metadata": {
        "colab": {
          "base_uri": "https://localhost:8080/"
        },
        "id": "iUh0T7beykYy",
        "outputId": "b6dd2b76-2637-438b-c388-dc532caf1b63"
      },
      "execution_count": 8,
      "outputs": [
        {
          "output_type": "stream",
          "name": "stdout",
          "text": [
            "Transcription: మీరు నన్ను పరిచారు ఎన్నోసార్లు చేయి కొట్టారు నేను నీ ఆత్మ గౌరవాన్ని కాపాడాలని కానీ మీరు కృతజ్ఞత లేకుండా కనీసం చిన్నపాటి గౌరవం లేకుండా నన్ను అత్త కోరికగా నెల నుండి సంవత్సరాల హింసించారు\n",
            "Audio saved to output.mp3\n"
          ]
        }
      ]
    }
  ]
}