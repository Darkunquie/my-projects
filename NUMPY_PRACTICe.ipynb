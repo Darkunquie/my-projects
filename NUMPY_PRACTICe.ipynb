{
  "nbformat": 4,
  "nbformat_minor": 0,
  "metadata": {
    "colab": {
      "provenance": [],
      "authorship_tag": "ABX9TyMUHVRh7CIEIYnuIpc3ZqCt",
      "include_colab_link": true
    },
    "kernelspec": {
      "name": "python3",
      "display_name": "Python 3"
    },
    "language_info": {
      "name": "python"
    }
  },
  "cells": [
    {
      "cell_type": "markdown",
      "metadata": {
        "id": "view-in-github",
        "colab_type": "text"
      },
      "source": [
        "<a href=\"https://colab.research.google.com/github/Darkunquie/my-projects/blob/main/NUMPY_PRACTICe.ipynb\" target=\"_parent\"><img src=\"https://colab.research.google.com/assets/colab-badge.svg\" alt=\"Open In Colab\"/></a>"
      ]
    },
    {
      "cell_type": "code",
      "execution_count": 2,
      "metadata": {
        "id": "yLFJNo1OTrJH"
      },
      "outputs": [],
      "source": [
        "import numpy as np\n",
        "import time"
      ]
    },
    {
      "cell_type": "code",
      "source": [
        "time = time.time()\n",
        "print(time)"
      ],
      "metadata": {
        "colab": {
          "base_uri": "https://localhost:8080/"
        },
        "id": "Ygs_4j9SgQG4",
        "outputId": "1f19261f-70cf-4de3-b872-ef02d43ab7d4"
      },
      "execution_count": null,
      "outputs": [
        {
          "output_type": "stream",
          "name": "stdout",
          "text": [
            "1732339901.3958185\n"
          ]
        }
      ]
    },
    {
      "cell_type": "markdown",
      "source": [
        "##1. Creating numpy arrays"
      ],
      "metadata": {
        "id": "1kY6ZQSigzoV"
      }
    },
    {
      "cell_type": "markdown",
      "source": [
        "list"
      ],
      "metadata": {
        "id": "ZGeq8uzZg4vp"
      }
    },
    {
      "cell_type": "code",
      "source": [
        "a=[1,2,3,4,5]\n",
        "print(a)"
      ],
      "metadata": {
        "colab": {
          "base_uri": "https://localhost:8080/"
        },
        "id": "Jb4bw5kyhAK8",
        "outputId": "89d814db-9e35-426d-c47e-0186635f5001"
      },
      "execution_count": null,
      "outputs": [
        {
          "output_type": "stream",
          "name": "stdout",
          "text": [
            "[1, 2, 3, 4, 5]\n"
          ]
        }
      ]
    },
    {
      "cell_type": "code",
      "source": [
        "a.append(789)"
      ],
      "metadata": {
        "id": "KAxkTl6kgSLD"
      },
      "execution_count": null,
      "outputs": []
    },
    {
      "cell_type": "code",
      "source": [
        "a"
      ],
      "metadata": {
        "colab": {
          "base_uri": "https://localhost:8080/"
        },
        "id": "o1HH26yDhHe-",
        "outputId": "e1bda8c4-ac69-4546-8aac-e88198012c14"
      },
      "execution_count": null,
      "outputs": [
        {
          "output_type": "execute_result",
          "data": {
            "text/plain": [
              "[1, 2, 3, 4, 5, 789]"
            ]
          },
          "metadata": {},
          "execution_count": 5
        }
      ]
    },
    {
      "cell_type": "code",
      "source": [
        "type(a)"
      ],
      "metadata": {
        "colab": {
          "base_uri": "https://localhost:8080/"
        },
        "id": "8lGz46w_hIUc",
        "outputId": "a8fa5103-82a3-415d-a6f1-b2207a952416"
      },
      "execution_count": null,
      "outputs": [
        {
          "output_type": "execute_result",
          "data": {
            "text/plain": [
              "list"
            ]
          },
          "metadata": {},
          "execution_count": 6
        }
      ]
    },
    {
      "cell_type": "code",
      "source": [
        "a2=np.array(a)\n",
        "a2"
      ],
      "metadata": {
        "colab": {
          "base_uri": "https://localhost:8080/"
        },
        "id": "FAhV9kivhLXr",
        "outputId": "aeb203ff-7231-4770-9fbc-69f6dcb0c430"
      },
      "execution_count": null,
      "outputs": [
        {
          "output_type": "execute_result",
          "data": {
            "text/plain": [
              "array([  1,   2,   3,   4,   5, 789])"
            ]
          },
          "metadata": {},
          "execution_count": 7
        }
      ]
    },
    {
      "cell_type": "code",
      "source": [
        "#maths operation on numpy\n",
        "import numpy as np\n",
        "a2 = np.array([1, 2, 3])\n",
        "b = a2 * 2  # Result: array([2, 4, 6])\n",
        "b"
      ],
      "metadata": {
        "colab": {
          "base_uri": "https://localhost:8080/"
        },
        "id": "TkLhiBVkhRco",
        "outputId": "3c90af30-bb6a-4df3-d61b-c90975b345ba"
      },
      "execution_count": null,
      "outputs": [
        {
          "output_type": "execute_result",
          "data": {
            "text/plain": [
              "array([2, 4, 6])"
            ]
          },
          "metadata": {},
          "execution_count": 9
        }
      ]
    },
    {
      "cell_type": "code",
      "source": [
        "a2=np.array(a)\n",
        "a2*345"
      ],
      "metadata": {
        "colab": {
          "base_uri": "https://localhost:8080/"
        },
        "id": "fn3ejsVKh7AJ",
        "outputId": "4e20f50e-a7d8-4199-a085-b9e5270c0943"
      },
      "execution_count": null,
      "outputs": [
        {
          "output_type": "execute_result",
          "data": {
            "text/plain": [
              "array([   345,    690,   1035,   1380,   1725, 272205])"
            ]
          },
          "metadata": {},
          "execution_count": 11
        }
      ]
    },
    {
      "cell_type": "code",
      "source": [
        "#mean"
      ],
      "metadata": {
        "id": "c3mEQskkiEJg"
      },
      "execution_count": null,
      "outputs": []
    },
    {
      "cell_type": "code",
      "source": [
        "mean=np.mean(a2)\n",
        "mean"
      ],
      "metadata": {
        "colab": {
          "base_uri": "https://localhost:8080/"
        },
        "id": "eP_ZkPT3iF8m",
        "outputId": "0f5e1f2f-0406-4e51-d3e5-0b754802377f"
      },
      "execution_count": null,
      "outputs": [
        {
          "output_type": "execute_result",
          "data": {
            "text/plain": [
              "134.0"
            ]
          },
          "metadata": {},
          "execution_count": 13
        }
      ]
    },
    {
      "cell_type": "code",
      "source": [
        "#matrix multiplication\n",
        "c=np.array([[1,2,3],[4,5,6]])\n",
        "d=np.array([[1,2],[3,4],[5,6]])\n",
        "np.dot(c,d)"
      ],
      "metadata": {
        "colab": {
          "base_uri": "https://localhost:8080/"
        },
        "id": "OoEUcvyQiIF-",
        "outputId": "b157a22d-f8b3-42ce-ef59-8d48e4add85c"
      },
      "execution_count": null,
      "outputs": [
        {
          "output_type": "execute_result",
          "data": {
            "text/plain": [
              "array([[22, 28],\n",
              "       [49, 64]])"
            ]
          },
          "metadata": {},
          "execution_count": 14
        }
      ]
    },
    {
      "cell_type": "code",
      "source": [
        "np.shape(a2)\n"
      ],
      "metadata": {
        "colab": {
          "base_uri": "https://localhost:8080/"
        },
        "id": "GSwXqWH2iXt2",
        "outputId": "7839ee28-5e86-4f43-bc25-5197ca911e7f"
      },
      "execution_count": null,
      "outputs": [
        {
          "output_type": "execute_result",
          "data": {
            "text/plain": [
              "(6,)"
            ]
          },
          "metadata": {},
          "execution_count": 15
        }
      ]
    },
    {
      "cell_type": "code",
      "source": [
        "a2.reshape(2,3)"
      ],
      "metadata": {
        "colab": {
          "base_uri": "https://localhost:8080/"
        },
        "id": "HJ6KtyW4ifSY",
        "outputId": "475744c3-132c-487c-ca66-35e1e6d0c79c"
      },
      "execution_count": null,
      "outputs": [
        {
          "output_type": "execute_result",
          "data": {
            "text/plain": [
              "array([[  1,   2,   3],\n",
              "       [  4,   5, 789]])"
            ]
          },
          "metadata": {},
          "execution_count": 17
        }
      ]
    },
    {
      "cell_type": "code",
      "source": [
        "a2.reshape(3,2)\n",
        "a2[2:-2]"
      ],
      "metadata": {
        "colab": {
          "base_uri": "https://localhost:8080/"
        },
        "id": "ecAtnMsxiq5H",
        "outputId": "a993caff-1f74-4724-d9b3-8c113c401d25"
      },
      "execution_count": null,
      "outputs": [
        {
          "output_type": "execute_result",
          "data": {
            "text/plain": [
              "array([3, 4])"
            ]
          },
          "metadata": {},
          "execution_count": 21
        }
      ]
    },
    {
      "cell_type": "markdown",
      "source": [
        "##Using arange"
      ],
      "metadata": {
        "id": "Hq7TseuOjGTg"
      }
    },
    {
      "cell_type": "markdown",
      "source": [
        "##arange is a function provided by the NumPy library that creates an array of evenly spaced values within a specified range"
      ],
      "metadata": {
        "id": "qRFmSBj3kZ6v"
      }
    },
    {
      "cell_type": "code",
      "source": [
        "a = np.arange(0, #starting number\n",
        "              10) #Stop number - excluded\n",
        "a"
      ],
      "metadata": {
        "colab": {
          "base_uri": "https://localhost:8080/"
        },
        "id": "4dhZ_VOyixXB",
        "outputId": "dbcfd912-6236-4674-e5df-89f6072baac6"
      },
      "execution_count": null,
      "outputs": [
        {
          "output_type": "execute_result",
          "data": {
            "text/plain": [
              "array([0, 1, 2, 3, 4, 5, 6, 7, 8, 9])"
            ]
          },
          "metadata": {},
          "execution_count": 22
        }
      ]
    },
    {
      "cell_type": "code",
      "source": [
        "a=np.arange(10)\n",
        "a"
      ],
      "metadata": {
        "colab": {
          "base_uri": "https://localhost:8080/"
        },
        "id": "6lfJc3E9kE_F",
        "outputId": "77cc7001-c209-4b2b-e483-9f50104cb103"
      },
      "execution_count": null,
      "outputs": [
        {
          "output_type": "execute_result",
          "data": {
            "text/plain": [
              "array([0, 1, 2, 3, 4, 5, 6, 7, 8, 9])"
            ]
          },
          "metadata": {},
          "execution_count": 23
        }
      ]
    },
    {
      "cell_type": "code",
      "source": [
        "#Specifying a Step:\n",
        "arr3 = np.arange(0, # start\n",
        "                  20,#end\n",
        "                  3)# differences\n",
        "arr3"
      ],
      "metadata": {
        "colab": {
          "base_uri": "https://localhost:8080/"
        },
        "id": "PBI9Yh9EkM7_",
        "outputId": "d12b891d-7107-4e05-b6ad-b64e39116dcc"
      },
      "execution_count": null,
      "outputs": [
        {
          "output_type": "execute_result",
          "data": {
            "text/plain": [
              "array([ 0,  3,  6,  9, 12, 15, 18])"
            ]
          },
          "metadata": {},
          "execution_count": 28
        }
      ]
    },
    {
      "cell_type": "code",
      "source": [
        "#create an array with non integer steps\n",
        "np.arange(0, 20, 1.5)\n"
      ],
      "metadata": {
        "colab": {
          "base_uri": "https://localhost:8080/"
        },
        "id": "VKjIH4rGkka4",
        "outputId": "d1993006-bdb2-423f-d0a5-3a3935c3055b"
      },
      "execution_count": null,
      "outputs": [
        {
          "output_type": "execute_result",
          "data": {
            "text/plain": [
              "array([ 0. ,  1.5,  3. ,  4.5,  6. ,  7.5,  9. , 10.5, 12. , 13.5, 15. ,\n",
              "       16.5, 18. , 19.5])"
            ]
          },
          "metadata": {},
          "execution_count": 29
        }
      ]
    },
    {
      "cell_type": "markdown",
      "source": [
        "##Array using 0s and 1s"
      ],
      "metadata": {
        "id": "cEOnm6I2lPbm"
      }
    },
    {
      "cell_type": "code",
      "source": [
        "np.zeros(10)"
      ],
      "metadata": {
        "colab": {
          "base_uri": "https://localhost:8080/"
        },
        "id": "AJdBLWIjlHhe",
        "outputId": "a2657104-6ad7-493b-da94-2b8fefcdca0f"
      },
      "execution_count": null,
      "outputs": [
        {
          "output_type": "execute_result",
          "data": {
            "text/plain": [
              "array([0., 0., 0., 0., 0., 0., 0., 0., 0., 0.])"
            ]
          },
          "metadata": {},
          "execution_count": 30
        }
      ]
    },
    {
      "cell_type": "code",
      "source": [
        "np.zeros((5,3))"
      ],
      "metadata": {
        "colab": {
          "base_uri": "https://localhost:8080/"
        },
        "id": "jerMveEBlc3W",
        "outputId": "964942cf-2d2e-47fc-be12-7f06c12430ad"
      },
      "execution_count": null,
      "outputs": [
        {
          "output_type": "execute_result",
          "data": {
            "text/plain": [
              "array([[0., 0., 0.],\n",
              "       [0., 0., 0.],\n",
              "       [0., 0., 0.],\n",
              "       [0., 0., 0.],\n",
              "       [0., 0., 0.]])"
            ]
          },
          "metadata": {},
          "execution_count": 31
        }
      ]
    },
    {
      "cell_type": "code",
      "source": [
        "np.ones((3,4))"
      ],
      "metadata": {
        "colab": {
          "base_uri": "https://localhost:8080/"
        },
        "id": "x2RW4pljljX7",
        "outputId": "e77b357c-f04c-4f75-a61b-eec7579ca796"
      },
      "execution_count": null,
      "outputs": [
        {
          "output_type": "execute_result",
          "data": {
            "text/plain": [
              "array([[1., 1., 1., 1.],\n",
              "       [1., 1., 1., 1.],\n",
              "       [1., 1., 1., 1.]])"
            ]
          },
          "metadata": {},
          "execution_count": 32
        }
      ]
    },
    {
      "cell_type": "markdown",
      "source": [
        "##Argument: (4, 6, 2)\n",
        "\n",
        "This tuple specifies the shape of the array you want to create. In this case:\n",
        "\n",
        "4 is the size of the first dimension (the number of depth layers).\n",
        "\n",
        "6 is the size of the second dimension (the number of rows).\n",
        "\n",
        "2 is the size of the third dimension (the number of columns)."
      ],
      "metadata": {
        "id": "BIgzCwOwl6sw"
      }
    },
    {
      "cell_type": "code",
      "source": [
        "np.ones((4,6,2))"
      ],
      "metadata": {
        "colab": {
          "base_uri": "https://localhost:8080/"
        },
        "id": "AfCH2h5lln08",
        "outputId": "61a7047c-dcd9-419b-fbe8-5bbb5005d4c6"
      },
      "execution_count": null,
      "outputs": [
        {
          "output_type": "execute_result",
          "data": {
            "text/plain": [
              "array([[[1., 1.],\n",
              "        [1., 1.],\n",
              "        [1., 1.],\n",
              "        [1., 1.],\n",
              "        [1., 1.],\n",
              "        [1., 1.]],\n",
              "\n",
              "       [[1., 1.],\n",
              "        [1., 1.],\n",
              "        [1., 1.],\n",
              "        [1., 1.],\n",
              "        [1., 1.],\n",
              "        [1., 1.]],\n",
              "\n",
              "       [[1., 1.],\n",
              "        [1., 1.],\n",
              "        [1., 1.],\n",
              "        [1., 1.],\n",
              "        [1., 1.],\n",
              "        [1., 1.]],\n",
              "\n",
              "       [[1., 1.],\n",
              "        [1., 1.],\n",
              "        [1., 1.],\n",
              "        [1., 1.],\n",
              "        [1., 1.],\n",
              "        [1., 1.]]])"
            ]
          },
          "metadata": {},
          "execution_count": 33
        }
      ]
    },
    {
      "cell_type": "code",
      "source": [
        "#linspace\n",
        "np.linspace(1, #start number\n",
        "            10, #Last number - not excluded\n",
        "            5)  #How many numbe"
      ],
      "metadata": {
        "colab": {
          "base_uri": "https://localhost:8080/"
        },
        "id": "xlY0tdwQl4GD",
        "outputId": "667cd284-05fb-4238-e547-566bfacd58fb"
      },
      "execution_count": null,
      "outputs": [
        {
          "output_type": "execute_result",
          "data": {
            "text/plain": [
              "array([ 1.  ,  3.25,  5.5 ,  7.75, 10.  ])"
            ]
          },
          "metadata": {},
          "execution_count": 34
        }
      ]
    },
    {
      "cell_type": "code",
      "source": [
        "#eye matrix\n",
        "# np.eye(N, M=None, k=0, dtype=float) syntax\n",
        "#N: Number of rows in the output matrix.\n",
        "#M: (optional) Number of columns in the output matrix. If not provided, it defaults to N, creating a square matrix.\n",
        "#k: (optional) The index of the diagonal. The default is 0 (the main diagonal), k > 0 refers to an upper diagonal, and k < 0 refers to a lower diagonal.\n",
        "#dtype: (optional) The desired data type for the output array. By default, it is float.\n",
        "\n",
        "\n",
        "\n",
        "np.eye(3)"
      ],
      "metadata": {
        "colab": {
          "base_uri": "https://localhost:8080/"
        },
        "id": "1loJ28XKmKCC",
        "outputId": "15ebf6bf-3e57-4f30-ab4e-39870f701c07"
      },
      "execution_count": null,
      "outputs": [
        {
          "output_type": "execute_result",
          "data": {
            "text/plain": [
              "array([[1., 0., 0.],\n",
              "       [0., 1., 0.],\n",
              "       [0., 0., 1.]])"
            ]
          },
          "metadata": {},
          "execution_count": 37
        }
      ]
    },
    {
      "cell_type": "code",
      "source": [
        "np.eye(4,2)"
      ],
      "metadata": {
        "colab": {
          "base_uri": "https://localhost:8080/"
        },
        "id": "3b_GzmyGm9UM",
        "outputId": "df4d4887-2d9c-4333-dd5f-bd9df79b9f1e"
      },
      "execution_count": null,
      "outputs": [
        {
          "output_type": "execute_result",
          "data": {
            "text/plain": [
              "array([[1., 0.],\n",
              "       [0., 1.],\n",
              "       [0., 0.],\n",
              "       [0., 0.]])"
            ]
          },
          "metadata": {},
          "execution_count": 40
        }
      ]
    },
    {
      "cell_type": "code",
      "source": [
        "#non identity matrix\n",
        "np.eye(2,3)"
      ],
      "metadata": {
        "id": "7-uT00lwnaA1",
        "colab": {
          "base_uri": "https://localhost:8080/"
        },
        "outputId": "3daba373-d229-43b3-b199-b99742fd2dac"
      },
      "execution_count": 4,
      "outputs": [
        {
          "output_type": "execute_result",
          "data": {
            "text/plain": [
              "array([[1., 0., 0.],\n",
              "       [0., 1., 0.]])"
            ]
          },
          "metadata": {},
          "execution_count": 4
        }
      ]
    },
    {
      "cell_type": "code",
      "source": [
        "#Creating an Identity Matrix with a Different Diagonal:\n",
        "np.eye(3, k=1)"
      ],
      "metadata": {
        "colab": {
          "base_uri": "https://localhost:8080/"
        },
        "id": "hz8H093ly55k",
        "outputId": "f39fa3a6-194e-4b11-bf38-0ea5ae38867f"
      },
      "execution_count": 5,
      "outputs": [
        {
          "output_type": "execute_result",
          "data": {
            "text/plain": [
              "array([[0., 1., 0.],\n",
              "       [0., 0., 1.],\n",
              "       [0., 0., 0.]])"
            ]
          },
          "metadata": {},
          "execution_count": 5
        }
      ]
    },
    {
      "cell_type": "code",
      "source": [
        "np.eye(3, k=-1)"
      ],
      "metadata": {
        "colab": {
          "base_uri": "https://localhost:8080/"
        },
        "id": "GuoDS8bUzXBo",
        "outputId": "871110a3-432a-47c7-a0ce-5e2ea7f74599"
      },
      "execution_count": 6,
      "outputs": [
        {
          "output_type": "execute_result",
          "data": {
            "text/plain": [
              "array([[0., 0., 0.],\n",
              "       [1., 0., 0.],\n",
              "       [0., 1., 0.]])"
            ]
          },
          "metadata": {},
          "execution_count": 6
        }
      ]
    },
    {
      "cell_type": "code",
      "source": [
        "np.eye(3, k=-2)"
      ],
      "metadata": {
        "colab": {
          "base_uri": "https://localhost:8080/"
        },
        "id": "mT3oo-RAzapY",
        "outputId": "d41ac847-5a56-456e-81ea-abb9df709c15"
      },
      "execution_count": 7,
      "outputs": [
        {
          "output_type": "execute_result",
          "data": {
            "text/plain": [
              "array([[0., 0., 0.],\n",
              "       [0., 0., 0.],\n",
              "       [1., 0., 0.]])"
            ]
          },
          "metadata": {},
          "execution_count": 7
        }
      ]
    },
    {
      "cell_type": "code",
      "source": [
        "np.eye(3,k=-3)"
      ],
      "metadata": {
        "colab": {
          "base_uri": "https://localhost:8080/"
        },
        "id": "R-pQbowKzdf3",
        "outputId": "a441d004-a7ac-43c7-a4cb-929c0e4c3622"
      },
      "execution_count": 11,
      "outputs": [
        {
          "output_type": "execute_result",
          "data": {
            "text/plain": [
              "array([[0., 0., 0.],\n",
              "       [0., 0., 0.],\n",
              "       [0., 0., 0.]])"
            ]
          },
          "metadata": {},
          "execution_count": 11
        }
      ]
    },
    {
      "cell_type": "code",
      "source": [
        "#change datatype\n",
        "np.eye(3, dtype=int)"
      ],
      "metadata": {
        "colab": {
          "base_uri": "https://localhost:8080/"
        },
        "id": "Sscq4awkzh6-",
        "outputId": "14867cbe-8f4e-4532-d18d-d533681da0ec"
      },
      "execution_count": 14,
      "outputs": [
        {
          "output_type": "execute_result",
          "data": {
            "text/plain": [
              "array([[1, 0, 0],\n",
              "       [0, 1, 0],\n",
              "       [0, 0, 1]])"
            ]
          },
          "metadata": {},
          "execution_count": 14
        }
      ]
    },
    {
      "cell_type": "markdown",
      "source": [
        "##2. Array using random numbers"
      ],
      "metadata": {
        "id": "_0fm2Bmkz1ir"
      }
    },
    {
      "cell_type": "code",
      "source": [
        "np.random.rand(3)\n",
        "a=np.random.rand(3)\n",
        "a"
      ],
      "metadata": {
        "colab": {
          "base_uri": "https://localhost:8080/"
        },
        "id": "aeJxSU8uzsYi",
        "outputId": "e5a8144c-7997-499e-b454-22e9d27881e6"
      },
      "execution_count": 17,
      "outputs": [
        {
          "output_type": "execute_result",
          "data": {
            "text/plain": [
              "array([0.85279115, 0.76654797, 0.90380322])"
            ]
          },
          "metadata": {},
          "execution_count": 17
        }
      ]
    },
    {
      "cell_type": "code",
      "source": [
        "#Creating a 2D array with standard normal random numbers\n",
        "np.random.randn(3, 4)\n"
      ],
      "metadata": {
        "colab": {
          "base_uri": "https://localhost:8080/"
        },
        "id": "jNoojCmn0D0n",
        "outputId": "b9c65150-c522-41f8-fbee-a4318fc6e2df"
      },
      "execution_count": 18,
      "outputs": [
        {
          "output_type": "execute_result",
          "data": {
            "text/plain": [
              "array([[ 0.14333525, -1.07775029, -0.07732794,  1.20111562],\n",
              "       [-0.02054268, -0.18762874, -1.03934595,  0.39483769],\n",
              "       [-0.37414761,  0.01364448,  1.00756444,  0.71467143]])"
            ]
          },
          "metadata": {},
          "execution_count": 18
        }
      ]
    },
    {
      "cell_type": "code",
      "source": [
        "x = 0.42014271\n",
        "type(x)"
      ],
      "metadata": {
        "colab": {
          "base_uri": "https://localhost:8080/"
        },
        "id": "uzrs6t4b0P3Y",
        "outputId": "7fe78b0c-7a08-47d3-ba93-9a4acc41160f"
      },
      "execution_count": 19,
      "outputs": [
        {
          "output_type": "execute_result",
          "data": {
            "text/plain": [
              "float"
            ]
          },
          "metadata": {},
          "execution_count": 19
        }
      ]
    },
    {
      "cell_type": "code",
      "source": [
        "np.random.randint(1,100)"
      ],
      "metadata": {
        "colab": {
          "base_uri": "https://localhost:8080/"
        },
        "id": "oyTgoOGT0YW7",
        "outputId": "ac446fc0-2ee6-44c5-83d5-35c8880d9410"
      },
      "execution_count": 20,
      "outputs": [
        {
          "output_type": "execute_result",
          "data": {
            "text/plain": [
              "40"
            ]
          },
          "metadata": {},
          "execution_count": 20
        }
      ]
    },
    {
      "cell_type": "code",
      "source": [
        "np.random.randint(1,100,size=66)"
      ],
      "metadata": {
        "colab": {
          "base_uri": "https://localhost:8080/"
        },
        "id": "QIQTZH2n0gt0",
        "outputId": "5b8ffdd4-2f2b-4897-f66a-ff84efe7d295"
      },
      "execution_count": 22,
      "outputs": [
        {
          "output_type": "execute_result",
          "data": {
            "text/plain": [
              "array([66, 39, 52, 78, 90, 84, 97, 28, 13, 91, 43, 31, 44, 45, 25, 53, 40,\n",
              "       49, 85, 41, 19, 93, 41, 35, 53, 64, 87, 63, 84, 80, 93, 92, 15, 45,\n",
              "       23, 61, 34, 63, 34,  3, 73, 42, 63, 84, 82, 39,  2, 32, 39, 32,  8,\n",
              "       84, 60, 14, 72, 81, 39, 51, 80, 42, 87, 84, 79, 83, 44,  9])"
            ]
          },
          "metadata": {},
          "execution_count": 22
        }
      ]
    },
    {
      "cell_type": "code",
      "source": [
        "np.random.randint(1,100,size=(3,#rows\n",
        "                              4))#col"
      ],
      "metadata": {
        "colab": {
          "base_uri": "https://localhost:8080/"
        },
        "id": "1KVtt09Z1ax7",
        "outputId": "d62e3e0c-c38e-4f20-878d-17b08414bd11"
      },
      "execution_count": 24,
      "outputs": [
        {
          "output_type": "execute_result",
          "data": {
            "text/plain": [
              "array([[83,  7, 64, 86],\n",
              "       [59, 11, 68, 32],\n",
              "       [14, 91, 34, 66]])"
            ]
          },
          "metadata": {},
          "execution_count": 24
        }
      ]
    },
    {
      "cell_type": "code",
      "source": [
        "np.random.randint(1,100,size=(3,#dimenisions\n",
        "                              4,2))"
      ],
      "metadata": {
        "colab": {
          "base_uri": "https://localhost:8080/"
        },
        "id": "W7HZZAlS1i87",
        "outputId": "5d94e6ae-b7db-46c0-9c7d-eea6151fc0f4"
      },
      "execution_count": 25,
      "outputs": [
        {
          "output_type": "execute_result",
          "data": {
            "text/plain": [
              "array([[[77, 70],\n",
              "        [20, 47],\n",
              "        [76, 51],\n",
              "        [91, 98]],\n",
              "\n",
              "       [[ 4, 76],\n",
              "        [73, 74],\n",
              "        [ 2, 17],\n",
              "        [26, 20]],\n",
              "\n",
              "       [[56, 19],\n",
              "        [22, 89],\n",
              "        [ 9, 21],\n",
              "        [17, 43]]])"
            ]
          },
          "metadata": {},
          "execution_count": 25
        }
      ]
    },
    {
      "cell_type": "code",
      "source": [
        "np.random.random((3,4))#float values"
      ],
      "metadata": {
        "colab": {
          "base_uri": "https://localhost:8080/"
        },
        "id": "KDM-fezd1wl9",
        "outputId": "c991db6c-c87f-4da2-877b-6c9965fe3771"
      },
      "execution_count": 26,
      "outputs": [
        {
          "output_type": "execute_result",
          "data": {
            "text/plain": [
              "array([[0.22190555, 0.02550879, 0.1871965 , 0.10665334],\n",
              "       [0.04223266, 0.28369538, 0.86489005, 0.27343397],\n",
              "       [0.03590286, 0.17089284, 0.2623333 , 0.35777231]])"
            ]
          },
          "metadata": {},
          "execution_count": 26
        }
      ]
    },
    {
      "cell_type": "markdown",
      "source": [
        "randn - Using normal distribution"
      ],
      "metadata": {
        "id": "COmKaFbh2DiI"
      }
    },
    {
      "cell_type": "code",
      "source": [
        "np.random.randn(3,4)"
      ],
      "metadata": {
        "colab": {
          "base_uri": "https://localhost:8080/"
        },
        "id": "4LS-L6j816Nw",
        "outputId": "fa090b5c-c675-4c2c-fae0-f6c3a9d3a9ed"
      },
      "execution_count": 27,
      "outputs": [
        {
          "output_type": "execute_result",
          "data": {
            "text/plain": [
              "array([[ 0.85990136,  1.0185717 , -0.21923202, -0.44464373],\n",
              "       [ 0.83641407, -0.42438054, -0.64731034,  0.26878508],\n",
              "       [-0.80117635, -0.46772083,  0.6676383 ,  1.66157871]])"
            ]
          },
          "metadata": {},
          "execution_count": 27
        }
      ]
    },
    {
      "cell_type": "code",
      "source": [
        "np.random.randint(5,#start\n",
        "                  20,#end\n",
        "                  6)# size"
      ],
      "metadata": {
        "colab": {
          "base_uri": "https://localhost:8080/"
        },
        "id": "67y39a6S2F2a",
        "outputId": "e5938f40-80b7-408b-9545-3b0a15a6d13e"
      },
      "execution_count": 28,
      "outputs": [
        {
          "output_type": "execute_result",
          "data": {
            "text/plain": [
              "array([ 5, 11,  6, 11, 16, 15])"
            ]
          },
          "metadata": {},
          "execution_count": 28
        }
      ]
    },
    {
      "cell_type": "code",
      "source": [
        "np.random.randint(5,20,(5,4))"
      ],
      "metadata": {
        "colab": {
          "base_uri": "https://localhost:8080/"
        },
        "id": "ybKDP-jA2gE2",
        "outputId": "4bccf10b-bcfb-43db-e83c-21d3289b4d42"
      },
      "execution_count": 29,
      "outputs": [
        {
          "output_type": "execute_result",
          "data": {
            "text/plain": [
              "array([[ 6, 19,  5,  7],\n",
              "       [ 9, 10,  9,  6],\n",
              "       [11, 16,  6, 16],\n",
              "       [14, 17, 12, 17],\n",
              "       [17,  6,  8, 14]])"
            ]
          },
          "metadata": {},
          "execution_count": 29
        }
      ]
    },
    {
      "cell_type": "markdown",
      "source": [
        "Seed - Bringing sanity to randomness"
      ],
      "metadata": {
        "id": "jvks1cbB3El-"
      }
    },
    {
      "cell_type": "markdown",
      "source": [
        "A seed is an initial value used to initialize a pseudorandom number generator (PRNG). When you set the seed for a random number generator, you set its starting point, and this determines the sequence of random numbers that will be generated."
      ],
      "metadata": {
        "id": "P-O970l83OLO"
      }
    },
    {
      "cell_type": "code",
      "source": [
        "#to set seed value\n",
        "np.random.seed(101)\n",
        "np.random.rand(4)\n",
        "\n"
      ],
      "metadata": {
        "colab": {
          "base_uri": "https://localhost:8080/"
        },
        "id": "Jg9CRMKN3M6o",
        "outputId": "a0dd417f-ac23-423f-bc8f-cf6c03c07abb"
      },
      "execution_count": 32,
      "outputs": [
        {
          "output_type": "execute_result",
          "data": {
            "text/plain": [
              "array([0.51639863, 0.57066759, 0.02847423, 0.17152166])"
            ]
          },
          "metadata": {},
          "execution_count": 32
        }
      ]
    },
    {
      "cell_type": "code",
      "source": [
        "np.random.seed(101)\n",
        "np.random.randint(1,100,size=(3,4))"
      ],
      "metadata": {
        "colab": {
          "base_uri": "https://localhost:8080/"
        },
        "id": "UCxaG8k03LVm",
        "outputId": "fec04da9-4342-4cb7-d96a-22375c5fd559"
      },
      "execution_count": 33,
      "outputs": [
        {
          "output_type": "execute_result",
          "data": {
            "text/plain": [
              "array([[96, 12, 82, 71],\n",
              "       [64, 88, 76, 10],\n",
              "       [78, 41,  5, 64]])"
            ]
          },
          "metadata": {},
          "execution_count": 33
        }
      ]
    },
    {
      "cell_type": "code",
      "source": [
        "np.random.randint(1,100,3)"
      ],
      "metadata": {
        "colab": {
          "base_uri": "https://localhost:8080/"
        },
        "id": "VJyOs-z13vrO",
        "outputId": "54c2d2b2-fb39-4c84-895a-46f145fb9317"
      },
      "execution_count": 34,
      "outputs": [
        {
          "output_type": "execute_result",
          "data": {
            "text/plain": [
              "array([41, 61, 93])"
            ]
          },
          "metadata": {},
          "execution_count": 34
        }
      ]
    },
    {
      "cell_type": "code",
      "source": [
        "np.random.seed(1)\n",
        "np.random.randint(1,100,3)"
      ],
      "metadata": {
        "colab": {
          "base_uri": "https://localhost:8080/"
        },
        "id": "c4O6bcNm38-7",
        "outputId": "3451ecd7-9917-46de-bdbd-773127dd631c"
      },
      "execution_count": 35,
      "outputs": [
        {
          "output_type": "execute_result",
          "data": {
            "text/plain": [
              "array([38, 13, 73])"
            ]
          },
          "metadata": {},
          "execution_count": 35
        }
      ]
    },
    {
      "cell_type": "markdown",
      "source": [
        "##3. Array methods and attributes"
      ],
      "metadata": {
        "id": "NcWTLDS54GFN"
      }
    },
    {
      "cell_type": "code",
      "source": [
        "#shape\n",
        "a=np.arange(1,\n",
        "            25)\n",
        "a"
      ],
      "metadata": {
        "colab": {
          "base_uri": "https://localhost:8080/"
        },
        "id": "LiKxK0_v4A-3",
        "outputId": "3dcf140b-7286-4eae-cecc-9f461d0f5b3a"
      },
      "execution_count": 37,
      "outputs": [
        {
          "output_type": "execute_result",
          "data": {
            "text/plain": [
              "array([ 1,  2,  3,  4,  5,  6,  7,  8,  9, 10, 11, 12, 13, 14, 15, 16, 17,\n",
              "       18, 19, 20, 21, 22, 23, 24])"
            ]
          },
          "metadata": {},
          "execution_count": 37
        }
      ]
    },
    {
      "cell_type": "code",
      "source": [
        "#ndarray.shape\n",
        "arr=np.array([[1, 2, 3], [4, 5, 6]])\n",
        "arr.shape"
      ],
      "metadata": {
        "colab": {
          "base_uri": "https://localhost:8080/"
        },
        "id": "Z8sBFEaf4aXn",
        "outputId": "d07fbaf5-2038-41a3-f121-bba1f0c3bbdf"
      },
      "execution_count": 50,
      "outputs": [
        {
          "output_type": "execute_result",
          "data": {
            "text/plain": [
              "(2, 3)"
            ]
          },
          "metadata": {},
          "execution_count": 50
        }
      ]
    },
    {
      "cell_type": "markdown",
      "source": [
        "np.random.randn: This function generates samples from the standard normal distribution (mean = 0, standard deviation = 1). The shape of the output array is specified by the arguments provided."
      ],
      "metadata": {
        "id": "E003CTxS47ji"
      }
    },
    {
      "cell_type": "code",
      "source": [
        "b = np.random.randn(4, 3)\n",
        "b"
      ],
      "metadata": {
        "colab": {
          "base_uri": "https://localhost:8080/"
        },
        "id": "y2CGLFlT44-M",
        "outputId": "616ecff3-c32b-4bae-c920-3d9dd25ec2f1"
      },
      "execution_count": 40,
      "outputs": [
        {
          "output_type": "execute_result",
          "data": {
            "text/plain": [
              "array([[-0.52817175, -1.07296862,  0.86540763],\n",
              "       [-2.3015387 ,  1.74481176, -0.7612069 ],\n",
              "       [ 0.3190391 , -0.24937038,  1.46210794],\n",
              "       [-2.06014071, -0.3224172 , -0.38405435]])"
            ]
          },
          "metadata": {},
          "execution_count": 40
        }
      ]
    },
    {
      "cell_type": "code",
      "source": [
        "c = np.random.randint(1,3)\n",
        "c"
      ],
      "metadata": {
        "colab": {
          "base_uri": "https://localhost:8080/"
        },
        "id": "8yrMcp8A4_0Z",
        "outputId": "b366ddf6-48ac-4582-c5b3-7f1fa2572e91"
      },
      "execution_count": 47,
      "outputs": [
        {
          "output_type": "execute_result",
          "data": {
            "text/plain": [
              "2"
            ]
          },
          "metadata": {},
          "execution_count": 47
        }
      ]
    },
    {
      "cell_type": "markdown",
      "source": [
        "ndarray.ndim:\n",
        "\n",
        "Returns the number of dimensions (axes) of the array."
      ],
      "metadata": {
        "id": "sbL1JyU-5TW1"
      }
    },
    {
      "cell_type": "code",
      "source": [
        "np.ndim(arr)"
      ],
      "metadata": {
        "colab": {
          "base_uri": "https://localhost:8080/"
        },
        "id": "YBlFdn_H5EvH",
        "outputId": "f46c1a08-8258-4fc9-b7ab-33bab6574809"
      },
      "execution_count": 51,
      "outputs": [
        {
          "output_type": "execute_result",
          "data": {
            "text/plain": [
              "2"
            ]
          },
          "metadata": {},
          "execution_count": 51
        }
      ]
    },
    {
      "cell_type": "code",
      "source": [
        "arr.shape"
      ],
      "metadata": {
        "colab": {
          "base_uri": "https://localhost:8080/"
        },
        "id": "dF8RzIuH5aTF",
        "outputId": "ba6f52c8-3dc7-4cae-9776-a876c0f4c9d3"
      },
      "execution_count": 52,
      "outputs": [
        {
          "output_type": "execute_result",
          "data": {
            "text/plain": [
              "(2, 3)"
            ]
          },
          "metadata": {},
          "execution_count": 52
        }
      ]
    },
    {
      "cell_type": "code",
      "source": [
        "print(arr.size)"
      ],
      "metadata": {
        "colab": {
          "base_uri": "https://localhost:8080/"
        },
        "id": "nOryR-x65zjc",
        "outputId": "cf46d374-3112-4e18-98c2-c130ee4a8a6b"
      },
      "execution_count": 55,
      "outputs": [
        {
          "output_type": "stream",
          "name": "stdout",
          "text": [
            "6\n"
          ]
        }
      ]
    },
    {
      "cell_type": "code",
      "source": [
        "a.size"
      ],
      "metadata": {
        "colab": {
          "base_uri": "https://localhost:8080/"
        },
        "id": "KGHzwt8u54xV",
        "outputId": "c54bd17a-803f-4ec3-b44f-cf1c7900b1c0"
      },
      "execution_count": 56,
      "outputs": [
        {
          "output_type": "execute_result",
          "data": {
            "text/plain": [
              "24"
            ]
          },
          "metadata": {},
          "execution_count": 56
        }
      ]
    },
    {
      "cell_type": "code",
      "source": [
        "#dtype\n",
        "a.dtype\n",
        "arr.dtype"
      ],
      "metadata": {
        "colab": {
          "base_uri": "https://localhost:8080/"
        },
        "id": "CRC-v9wm6IJL",
        "outputId": "fc21414e-c23d-4861-bc6f-f174f41a0da3"
      },
      "execution_count": 58,
      "outputs": [
        {
          "output_type": "execute_result",
          "data": {
            "text/plain": [
              "dtype('int64')"
            ]
          },
          "metadata": {},
          "execution_count": 58
        }
      ]
    },
    {
      "cell_type": "code",
      "source": [
        "arr.dtype"
      ],
      "metadata": {
        "colab": {
          "base_uri": "https://localhost:8080/"
        },
        "id": "VNTve-8A6Smo",
        "outputId": "6d4baa7a-3f7c-41d1-8214-eb869081eca5"
      },
      "execution_count": 59,
      "outputs": [
        {
          "output_type": "execute_result",
          "data": {
            "text/plain": [
              "dtype('int64')"
            ]
          },
          "metadata": {},
          "execution_count": 59
        }
      ]
    },
    {
      "cell_type": "code",
      "source": [
        "#ndarray.itemsize Returns the size (in bytes) of each element in the array.\n",
        "arr.itemsize"
      ],
      "metadata": {
        "colab": {
          "base_uri": "https://localhost:8080/"
        },
        "id": "h9tzr5Op6Zop",
        "outputId": "f043e896-77a9-45c4-9d47-395474d61d54"
      },
      "execution_count": 60,
      "outputs": [
        {
          "output_type": "execute_result",
          "data": {
            "text/plain": [
              "8"
            ]
          },
          "metadata": {},
          "execution_count": 60
        }
      ]
    },
    {
      "cell_type": "code",
      "source": [
        "#ndarray.nbytes:\n",
        "\n",
        "#Returns the total number of bytes consumed by the elements of the array."
      ],
      "metadata": {
        "id": "nr3m0ngh6fj_"
      },
      "execution_count": null,
      "outputs": []
    },
    {
      "cell_type": "code",
      "source": [
        "arr.nbytes"
      ],
      "metadata": {
        "colab": {
          "base_uri": "https://localhost:8080/"
        },
        "id": "KAnFDmPU61sv",
        "outputId": "24f4564a-5d39-48a4-c4eb-405aa30cf87a"
      },
      "execution_count": 61,
      "outputs": [
        {
          "output_type": "execute_result",
          "data": {
            "text/plain": [
              "48"
            ]
          },
          "metadata": {},
          "execution_count": 61
        }
      ]
    },
    {
      "cell_type": "code",
      "source": [
        "a.nbytes"
      ],
      "metadata": {
        "colab": {
          "base_uri": "https://localhost:8080/"
        },
        "id": "M6imunf265CM",
        "outputId": "8c6b0e28-8740-4cb6-8a17-d4c0644a4119"
      },
      "execution_count": 62,
      "outputs": [
        {
          "output_type": "execute_result",
          "data": {
            "text/plain": [
              "192"
            ]
          },
          "metadata": {},
          "execution_count": 62
        }
      ]
    },
    {
      "cell_type": "code",
      "source": [
        "arr.T  # transpose matrix"
      ],
      "metadata": {
        "colab": {
          "base_uri": "https://localhost:8080/"
        },
        "id": "HbCwwPmk63-I",
        "outputId": "85be4c76-7430-42dd-8bcf-671d74e21d73"
      },
      "execution_count": 64,
      "outputs": [
        {
          "output_type": "execute_result",
          "data": {
            "text/plain": [
              "array([[1, 4],\n",
              "       [2, 5],\n",
              "       [3, 6]])"
            ]
          },
          "metadata": {},
          "execution_count": 64
        }
      ]
    },
    {
      "cell_type": "code",
      "source": [
        "#max, min, argmax and argmin\n",
        "arr.max()"
      ],
      "metadata": {
        "colab": {
          "base_uri": "https://localhost:8080/"
        },
        "id": "wOGkniOn6-Vb",
        "outputId": "9df7444e-af6b-41ed-87df-d0a8009d0705"
      },
      "execution_count": 65,
      "outputs": [
        {
          "output_type": "execute_result",
          "data": {
            "text/plain": [
              "6"
            ]
          },
          "metadata": {},
          "execution_count": 65
        }
      ]
    },
    {
      "cell_type": "code",
      "source": [
        "a.max()"
      ],
      "metadata": {
        "colab": {
          "base_uri": "https://localhost:8080/"
        },
        "id": "udjZDUp47JXA",
        "outputId": "8d6e1b8b-95fb-4f5c-96ed-425f78e86990"
      },
      "execution_count": 67,
      "outputs": [
        {
          "output_type": "execute_result",
          "data": {
            "text/plain": [
              "24"
            ]
          },
          "metadata": {},
          "execution_count": 67
        }
      ]
    },
    {
      "cell_type": "code",
      "source": [
        "mat=np.random.randn(3,4)\n",
        "mat"
      ],
      "metadata": {
        "colab": {
          "base_uri": "https://localhost:8080/"
        },
        "id": "3-6tKIBO7QM7",
        "outputId": "e41a979f-8e6e-480e-ed51-9b5b24182fd1"
      },
      "execution_count": 74,
      "outputs": [
        {
          "output_type": "execute_result",
          "data": {
            "text/plain": [
              "array([[-0.60998525,  0.30641238,  1.69182613, -0.74795374],\n",
              "       [-0.58079722, -0.11075397,  2.04202875,  0.44752069],\n",
              "       [ 0.68338423,  0.02288597,  0.85723427,  0.18393058]])"
            ]
          },
          "metadata": {},
          "execution_count": 74
        }
      ]
    },
    {
      "cell_type": "code",
      "source": [
        "mat.T"
      ],
      "metadata": {
        "colab": {
          "base_uri": "https://localhost:8080/"
        },
        "id": "XziGBnFa7T6T",
        "outputId": "99adb0aa-0925-4749-8f3e-187170b3d636"
      },
      "execution_count": 73,
      "outputs": [
        {
          "output_type": "execute_result",
          "data": {
            "text/plain": [
              "array([[ 0.87341823, -1.05825656,  0.103163  ],\n",
              "       [-0.11138337,  0.65628408, -0.62166685],\n",
              "       [-1.03803876, -0.06249159,  0.27571804],\n",
              "       [-1.00947983, -1.73865429, -1.09067489]])"
            ]
          },
          "metadata": {},
          "execution_count": 73
        }
      ]
    },
    {
      "cell_type": "code",
      "source": [
        "a.argmax() #The method argmax() in NumPy is used to find the index of the maximum value in an array"
      ],
      "metadata": {
        "colab": {
          "base_uri": "https://localhost:8080/"
        },
        "id": "VxegKuVq70tj",
        "outputId": "02727fc4-7f48-40fa-d5f4-ac8bda1b1f4c"
      },
      "execution_count": 75,
      "outputs": [
        {
          "output_type": "execute_result",
          "data": {
            "text/plain": [
              "23"
            ]
          },
          "metadata": {},
          "execution_count": 75
        }
      ]
    },
    {
      "cell_type": "code",
      "source": [
        "#Purpose:\n",
        "\n",
        "#It returns the index of the first occurrence of the maximum value in the array."
      ],
      "metadata": {
        "id": "d9-ud_ei8Csz"
      },
      "execution_count": null,
      "outputs": []
    },
    {
      "cell_type": "code",
      "source": [
        "np.argmax(mat)"
      ],
      "metadata": {
        "colab": {
          "base_uri": "https://localhost:8080/"
        },
        "id": "AdpvGYEt8Rr3",
        "outputId": "449e96b8-c8a5-4ded-f1f8-1404546cd33d"
      },
      "execution_count": 76,
      "outputs": [
        {
          "output_type": "execute_result",
          "data": {
            "text/plain": [
              "6"
            ]
          },
          "metadata": {},
          "execution_count": 76
        }
      ]
    },
    {
      "cell_type": "code",
      "source": [
        "d=np.random.randint(2,20,5)\n",
        "d"
      ],
      "metadata": {
        "colab": {
          "base_uri": "https://localhost:8080/"
        },
        "id": "SjpFkFTs8Uxc",
        "outputId": "90a996f4-594c-4111-b5a6-0d8fc38feeb3"
      },
      "execution_count": 81,
      "outputs": [
        {
          "output_type": "execute_result",
          "data": {
            "text/plain": [
              "array([13, 14, 13,  6,  9])"
            ]
          },
          "metadata": {},
          "execution_count": 81
        }
      ]
    },
    {
      "cell_type": "code",
      "source": [
        "d.argmax()"
      ],
      "metadata": {
        "colab": {
          "base_uri": "https://localhost:8080/"
        },
        "id": "hobuEm548ckX",
        "outputId": "abb64466-7ef6-4b8c-a6af-50c63700dabf"
      },
      "execution_count": 82,
      "outputs": [
        {
          "output_type": "execute_result",
          "data": {
            "text/plain": [
              "1"
            ]
          },
          "metadata": {},
          "execution_count": 82
        }
      ]
    },
    {
      "cell_type": "code",
      "source": [
        "d.min()"
      ],
      "metadata": {
        "colab": {
          "base_uri": "https://localhost:8080/"
        },
        "id": "Ljqsmb5180-P",
        "outputId": "81d0ae0e-fb09-48bf-ae61-d51b3b06994e"
      },
      "execution_count": 83,
      "outputs": [
        {
          "output_type": "execute_result",
          "data": {
            "text/plain": [
              "6"
            ]
          },
          "metadata": {},
          "execution_count": 83
        }
      ]
    },
    {
      "cell_type": "code",
      "source": [
        "val=d.argmin()\n",
        "val"
      ],
      "metadata": {
        "colab": {
          "base_uri": "https://localhost:8080/"
        },
        "id": "7ugHu05r857H",
        "outputId": "f80eba54-a7d5-445d-fd51-d4516dce8ce3"
      },
      "execution_count": 86,
      "outputs": [
        {
          "output_type": "execute_result",
          "data": {
            "text/plain": [
              "3"
            ]
          },
          "metadata": {},
          "execution_count": 86
        }
      ]
    },
    {
      "cell_type": "code",
      "source": [
        "d[val] #accessing the value"
      ],
      "metadata": {
        "colab": {
          "base_uri": "https://localhost:8080/"
        },
        "id": "CkHB9CBa8-Ph",
        "outputId": "0ba8bbf1-624b-422f-b2cb-a73ba688d006"
      },
      "execution_count": 87,
      "outputs": [
        {
          "output_type": "execute_result",
          "data": {
            "text/plain": [
              "6"
            ]
          },
          "metadata": {},
          "execution_count": 87
        }
      ]
    },
    {
      "cell_type": "markdown",
      "source": [
        "Array Methods"
      ],
      "metadata": {
        "id": "wx0QN0gK9o1Q"
      }
    },
    {
      "cell_type": "markdown",
      "source": [
        "ndarray.reshape(new_shape):\n",
        "\n",
        "Gives a new shape to the array without changing its data."
      ],
      "metadata": {
        "id": "c7i1qqzy907e"
      }
    },
    {
      "cell_type": "code",
      "source": [
        "arr1=np.random.rand(4,3)\n",
        "arr1"
      ],
      "metadata": {
        "colab": {
          "base_uri": "https://localhost:8080/"
        },
        "id": "fPf9ZlBK96Pa",
        "outputId": "5aa97830-6bba-4b00-99ec-40a707a3f9ca"
      },
      "execution_count": 90,
      "outputs": [
        {
          "output_type": "execute_result",
          "data": {
            "text/plain": [
              "array([[0.62169572, 0.11474597, 0.94948926],\n",
              "       [0.44991213, 0.57838961, 0.4081368 ],\n",
              "       [0.23702698, 0.90337952, 0.57367949],\n",
              "       [0.00287033, 0.61714491, 0.3266449 ]])"
            ]
          },
          "metadata": {},
          "execution_count": 90
        }
      ]
    },
    {
      "cell_type": "code",
      "source": [
        "reshaped_arr = arr1.reshape(3,4)\n",
        "print(reshaped_arr)"
      ],
      "metadata": {
        "colab": {
          "base_uri": "https://localhost:8080/"
        },
        "id": "zuGkyyOK9eEL",
        "outputId": "32b804ff-2438-4b49-8ec7-974bc105e604"
      },
      "execution_count": 93,
      "outputs": [
        {
          "output_type": "stream",
          "name": "stdout",
          "text": [
            "[[0.62169572 0.11474597 0.94948926 0.44991213]\n",
            " [0.57838961 0.4081368  0.23702698 0.90337952]\n",
            " [0.57367949 0.00287033 0.61714491 0.3266449 ]]\n"
          ]
        }
      ]
    },
    {
      "cell_type": "markdown",
      "source": [
        "ndarray.flatten():\n",
        "\n",
        "Returns a copy of the array collapsed into one dimension."
      ],
      "metadata": {
        "id": "HKhDGOt9-WJF"
      }
    },
    {
      "cell_type": "code",
      "source": [
        "arr1.flatten()"
      ],
      "metadata": {
        "colab": {
          "base_uri": "https://localhost:8080/"
        },
        "id": "sybtFgfo-LkC",
        "outputId": "31abc9a8-41b1-480c-f077-dfe5f040b62a"
      },
      "execution_count": 95,
      "outputs": [
        {
          "output_type": "execute_result",
          "data": {
            "text/plain": [
              "array([0.62169572, 0.11474597, 0.94948926, 0.44991213, 0.57838961,\n",
              "       0.4081368 , 0.23702698, 0.90337952, 0.57367949, 0.00287033,\n",
              "       0.61714491, 0.3266449 ])"
            ]
          },
          "metadata": {},
          "execution_count": 95
        }
      ]
    },
    {
      "cell_type": "markdown",
      "source": [
        "ndarray.sum(axis=None):\n",
        "\n",
        "Returns the sum of array elements over a given axis."
      ],
      "metadata": {
        "id": "j_ZXajIt-lsV"
      }
    },
    {
      "cell_type": "code",
      "source": [
        "arr1.sum(axis=0)"
      ],
      "metadata": {
        "colab": {
          "base_uri": "https://localhost:8080/"
        },
        "id": "HP3cgksw-axq",
        "outputId": "997194fd-5fe3-4880-fd5a-a8838338c498"
      },
      "execution_count": 96,
      "outputs": [
        {
          "output_type": "execute_result",
          "data": {
            "text/plain": [
              "array([1.31150516, 2.21366002, 2.25795045])"
            ]
          },
          "metadata": {},
          "execution_count": 96
        }
      ]
    },
    {
      "cell_type": "code",
      "source": [
        "arr1.sum(axis=1) #row wise sum"
      ],
      "metadata": {
        "colab": {
          "base_uri": "https://localhost:8080/"
        },
        "id": "J-zGCEkj-txd",
        "outputId": "6c79e60e-23a6-4339-8ffb-97bc65ca4240"
      },
      "execution_count": 98,
      "outputs": [
        {
          "output_type": "execute_result",
          "data": {
            "text/plain": [
              "array([1.68593095, 1.43643855, 1.71408599, 0.94666014])"
            ]
          },
          "metadata": {},
          "execution_count": 98
        }
      ]
    },
    {
      "cell_type": "markdown",
      "source": [
        "ndarray.mean(axis=None):\n",
        "\n",
        "Returns the arithmetic mean of the array elements along a specified axis."
      ],
      "metadata": {
        "id": "mZYU-AYw_VzY"
      }
    },
    {
      "cell_type": "code",
      "source": [
        "arr.mean(axis=0)"
      ],
      "metadata": {
        "colab": {
          "base_uri": "https://localhost:8080/"
        },
        "id": "xExxz-X7-zfE",
        "outputId": "aa3448a8-defb-4cd1-843f-006385ead388"
      },
      "execution_count": 103,
      "outputs": [
        {
          "output_type": "execute_result",
          "data": {
            "text/plain": [
              "array([2.5, 3.5, 4.5])"
            ]
          },
          "metadata": {},
          "execution_count": 103
        }
      ]
    },
    {
      "cell_type": "code",
      "source": [
        "arr.max()"
      ],
      "metadata": {
        "colab": {
          "base_uri": "https://localhost:8080/"
        },
        "id": "wAIhC0m1_a4P",
        "outputId": "06552016-270f-4f7b-d61a-7b42623a4b55"
      },
      "execution_count": 105,
      "outputs": [
        {
          "output_type": "execute_result",
          "data": {
            "text/plain": [
              "6"
            ]
          },
          "metadata": {},
          "execution_count": 105
        }
      ]
    },
    {
      "cell_type": "code",
      "source": [
        "arr.sort(axis=0)\n",
        "arr"
      ],
      "metadata": {
        "colab": {
          "base_uri": "https://localhost:8080/"
        },
        "id": "qSJB9V-I_stl",
        "outputId": "5ea98b51-7728-4a5a-9ee2-c49aa90da3ff"
      },
      "execution_count": 110,
      "outputs": [
        {
          "output_type": "execute_result",
          "data": {
            "text/plain": [
              "array([[1, 2, 3],\n",
              "       [4, 5, 6]])"
            ]
          },
          "metadata": {},
          "execution_count": 110
        }
      ]
    },
    {
      "cell_type": "code",
      "source": [],
      "metadata": {
        "id": "89yXO3Vk_yUi"
      },
      "execution_count": null,
      "outputs": []
    },
    {
      "cell_type": "markdown",
      "source": [
        "##4. Indexing and Slicing"
      ],
      "metadata": {
        "id": "ouDF8IJw_938"
      }
    },
    {
      "cell_type": "code",
      "source": [
        "a = np.arange(11,25)\n",
        "a"
      ],
      "metadata": {
        "colab": {
          "base_uri": "https://localhost:8080/"
        },
        "id": "HJMJGD4HABa5",
        "outputId": "925f2ee2-66ee-4308-995b-eee02eb9df45"
      },
      "execution_count": 111,
      "outputs": [
        {
          "output_type": "execute_result",
          "data": {
            "text/plain": [
              "array([11, 12, 13, 14, 15, 16, 17, 18, 19, 20, 21, 22, 23, 24])"
            ]
          },
          "metadata": {},
          "execution_count": 111
        }
      ]
    },
    {
      "cell_type": "code",
      "source": [
        "arr_2d = np.array([[1, 2, 3], [4, 5, 6], [7, 8, 9]])\n",
        "print(arr_2d[1, 2])  # Output: 6 (element at second row, third column)\n"
      ],
      "metadata": {
        "colab": {
          "base_uri": "https://localhost:8080/"
        },
        "id": "F8ayqJZSALGy",
        "outputId": "7cd9a961-253d-44c3-d072-de547a175472"
      },
      "execution_count": 112,
      "outputs": [
        {
          "output_type": "stream",
          "name": "stdout",
          "text": [
            "6\n"
          ]
        }
      ]
    },
    {
      "cell_type": "code",
      "source": [
        "a[2:6]"
      ],
      "metadata": {
        "colab": {
          "base_uri": "https://localhost:8080/"
        },
        "id": "0XHAqfNjAPg3",
        "outputId": "2fcd37c0-cd91-46f4-ae3d-6a58ef48009f"
      },
      "execution_count": 113,
      "outputs": [
        {
          "output_type": "execute_result",
          "data": {
            "text/plain": [
              "array([13, 14, 15, 16])"
            ]
          },
          "metadata": {},
          "execution_count": 113
        }
      ]
    },
    {
      "cell_type": "code",
      "source": [
        "#Specific elements\n",
        "a[[0,3,6]]"
      ],
      "metadata": {
        "colab": {
          "base_uri": "https://localhost:8080/"
        },
        "id": "EHh7pDVHASjz",
        "outputId": "639513c8-c374-4141-b249-f395d5c5d602"
      },
      "execution_count": 114,
      "outputs": [
        {
          "output_type": "execute_result",
          "data": {
            "text/plain": [
              "array([11, 14, 17])"
            ]
          },
          "metadata": {},
          "execution_count": 114
        }
      ]
    },
    {
      "cell_type": "code",
      "source": [
        "arr_2d[2]  #accessing whole row"
      ],
      "metadata": {
        "colab": {
          "base_uri": "https://localhost:8080/"
        },
        "id": "iC7g5SNNAW0A",
        "outputId": "e018c0b7-b33e-40a3-f995-6a31039041bb"
      },
      "execution_count": 115,
      "outputs": [
        {
          "output_type": "execute_result",
          "data": {
            "text/plain": [
              "array([7, 8, 9])"
            ]
          },
          "metadata": {},
          "execution_count": 115
        }
      ]
    },
    {
      "cell_type": "code",
      "source": [
        "arr_2d[2] =arr_2d[2][::-1]\n",
        "arr_2d #reverse row"
      ],
      "metadata": {
        "colab": {
          "base_uri": "https://localhost:8080/"
        },
        "id": "klnqUaIrA8tl",
        "outputId": "b8e217e1-0e9f-4477-da4f-eb340210ca5d"
      },
      "execution_count": 119,
      "outputs": [
        {
          "output_type": "execute_result",
          "data": {
            "text/plain": [
              "array([[1, 2, 3],\n",
              "       [4, 5, 6],\n",
              "       [9, 8, 7]])"
            ]
          },
          "metadata": {},
          "execution_count": 119
        }
      ]
    },
    {
      "cell_type": "code",
      "source": [
        "#Updating specific elements\n",
        "a[3:5] = 100\n",
        "a"
      ],
      "metadata": {
        "colab": {
          "base_uri": "https://localhost:8080/"
        },
        "id": "ZL2MkOo6Ahmk",
        "outputId": "1c261a66-adce-489b-fbf9-44172ee4616c"
      },
      "execution_count": 116,
      "outputs": [
        {
          "output_type": "execute_result",
          "data": {
            "text/plain": [
              "array([ 11,  12,  13, 100, 100,  16,  17,  18,  19,  20,  21,  22,  23,\n",
              "        24])"
            ]
          },
          "metadata": {},
          "execution_count": 116
        }
      ]
    },
    {
      "cell_type": "markdown",
      "source": [
        "Two dimensional array indexing and slicing"
      ],
      "metadata": {
        "id": "S7rMiraeBQ6-"
      }
    },
    {
      "cell_type": "code",
      "source": [
        "b = np.array([[10,32,6,7,8], [90, 45, 32 , 89, 50],\n",
        "              [33, 66, 99, 22, 55], [23, 56, 98, 45, 65]])\n",
        "b"
      ],
      "metadata": {
        "colab": {
          "base_uri": "https://localhost:8080/"
        },
        "id": "nOi_864RApcx",
        "outputId": "7f3326bc-73be-47d6-e3d1-ed0269a4d7b5"
      },
      "execution_count": 120,
      "outputs": [
        {
          "output_type": "execute_result",
          "data": {
            "text/plain": [
              "array([[10, 32,  6,  7,  8],\n",
              "       [90, 45, 32, 89, 50],\n",
              "       [33, 66, 99, 22, 55],\n",
              "       [23, 56, 98, 45, 65]])"
            ]
          },
          "metadata": {},
          "execution_count": 120
        }
      ]
    },
    {
      "cell_type": "code",
      "source": [
        "#indexing row\n",
        "b[1]"
      ],
      "metadata": {
        "colab": {
          "base_uri": "https://localhost:8080/"
        },
        "id": "bnfLRotOBTxF",
        "outputId": "95d4e6a1-8faf-4aef-bb60-64cbeaf8526a"
      },
      "execution_count": 121,
      "outputs": [
        {
          "output_type": "execute_result",
          "data": {
            "text/plain": [
              "array([90, 45, 32, 89, 50])"
            ]
          },
          "metadata": {},
          "execution_count": 121
        }
      ]
    },
    {
      "cell_type": "code",
      "source": [
        "#Same as above\n",
        "b[2,3]"
      ],
      "metadata": {
        "colab": {
          "base_uri": "https://localhost:8080/"
        },
        "id": "pQzqmUldCMCI",
        "outputId": "7e2fc6f2-9378-4380-a734-7ac338e4da50"
      },
      "execution_count": 122,
      "outputs": [
        {
          "output_type": "execute_result",
          "data": {
            "text/plain": [
              "22"
            ]
          },
          "metadata": {},
          "execution_count": 122
        }
      ]
    },
    {
      "cell_type": "code",
      "source": [
        "b[1][::-1]"
      ],
      "metadata": {
        "colab": {
          "base_uri": "https://localhost:8080/"
        },
        "id": "l4Gt6yKXCVkS",
        "outputId": "45f0a8bd-230b-4599-e883-c27ee548a95a"
      },
      "execution_count": 130,
      "outputs": [
        {
          "output_type": "execute_result",
          "data": {
            "text/plain": [
              "array([50, 89, 32, 45, 90])"
            ]
          },
          "metadata": {},
          "execution_count": 130
        }
      ]
    },
    {
      "cell_type": "code",
      "source": [
        "#Specific rows and columns\n",
        "b\n",
        "b[:2,2:-1]"
      ],
      "metadata": {
        "colab": {
          "base_uri": "https://localhost:8080/"
        },
        "id": "eKTl_bm5CYjE",
        "outputId": "14748f52-b801-4004-f858-21726987bfd0"
      },
      "execution_count": 132,
      "outputs": [
        {
          "output_type": "execute_result",
          "data": {
            "text/plain": [
              "array([[ 6,  7],\n",
              "       [32, 89]])"
            ]
          },
          "metadata": {},
          "execution_count": 132
        }
      ]
    },
    {
      "cell_type": "markdown",
      "source": [
        "Basic Slicing"
      ],
      "metadata": {
        "id": "90o2Ads9C8zI"
      }
    },
    {
      "cell_type": "code",
      "source": [
        "import numpy as np\n",
        "\n",
        "arr_1d = np.array([10, 20, 30, 40, 50])\n",
        "print(arr_1d[0])  # Output: 10 (first element)\n",
        "print(arr_1d[3])  # Output: 40 (fourth element)\n"
      ],
      "metadata": {
        "colab": {
          "base_uri": "https://localhost:8080/"
        },
        "id": "albKfGOLCy_i",
        "outputId": "58536266-691d-4ab0-c4f4-04ad73e9922e"
      },
      "execution_count": 136,
      "outputs": [
        {
          "output_type": "stream",
          "name": "stdout",
          "text": [
            "10\n",
            "40\n"
          ]
        }
      ]
    },
    {
      "cell_type": "code",
      "source": [
        "print(arr_1d[1:4])  # Output: [20 30 40] (elements from index 1 to 3)\n"
      ],
      "metadata": {
        "colab": {
          "base_uri": "https://localhost:8080/"
        },
        "id": "Sb1zXK9gDMXU",
        "outputId": "458e62ce-79ca-48e7-a287-863c1aaa4b22"
      },
      "execution_count": 137,
      "outputs": [
        {
          "output_type": "stream",
          "name": "stdout",
          "text": [
            "[20 30 40]\n"
          ]
        }
      ]
    },
    {
      "cell_type": "code",
      "source": [
        "b[0:2,1:3]  #matrix slicing\n",
        "# (elements from row 0 to 1 and column 1 to 2)"
      ],
      "metadata": {
        "colab": {
          "base_uri": "https://localhost:8080/"
        },
        "id": "WMmG7olWEOT2",
        "outputId": "459a0360-1724-4f1e-f20b-dc75893306cc"
      },
      "execution_count": 138,
      "outputs": [
        {
          "output_type": "execute_result",
          "data": {
            "text/plain": [
              "array([[32,  6],\n",
              "       [45, 32]])"
            ]
          },
          "metadata": {},
          "execution_count": 138
        }
      ]
    },
    {
      "cell_type": "markdown",
      "source": [
        "Custom indexing"
      ],
      "metadata": {
        "id": "pcJsJ-inEp2g"
      }
    },
    {
      "cell_type": "code",
      "source": [
        "b = np.array([[10,32,6,7,8], [90, 45, 32 , 89, 50],\n",
        "              [33, 66, 99, 22, 55], [23, 56, 98, 45, 65]])\n",
        "b"
      ],
      "metadata": {
        "colab": {
          "base_uri": "https://localhost:8080/"
        },
        "id": "OMZyt9hyETNE",
        "outputId": "4c04780b-45fd-4a93-c473-d5ddd3e0086a"
      },
      "execution_count": 139,
      "outputs": [
        {
          "output_type": "execute_result",
          "data": {
            "text/plain": [
              "array([[10, 32,  6,  7,  8],\n",
              "       [90, 45, 32, 89, 50],\n",
              "       [33, 66, 99, 22, 55],\n",
              "       [23, 56, 98, 45, 65]])"
            ]
          },
          "metadata": {},
          "execution_count": 139
        }
      ]
    },
    {
      "cell_type": "code",
      "source": [
        "b[:,(1,3)] #All Rows, (1 Coloumn, 3 Coloumn)"
      ],
      "metadata": {
        "colab": {
          "base_uri": "https://localhost:8080/"
        },
        "id": "zG7-PPXrEtKm",
        "outputId": "233421ea-f0c0-4096-ba79-18e292281ac8"
      },
      "execution_count": 141,
      "outputs": [
        {
          "output_type": "execute_result",
          "data": {
            "text/plain": [
              "array([[32,  7],\n",
              "       [45, 89],\n",
              "       [66, 22],\n",
              "       [56, 45]])"
            ]
          },
          "metadata": {},
          "execution_count": 141
        }
      ]
    },
    {
      "cell_type": "code",
      "source": [
        "b[:3,(1,3)] #only 3  Rows, (1 Coloumn, 3 Coloumn)"
      ],
      "metadata": {
        "colab": {
          "base_uri": "https://localhost:8080/"
        },
        "id": "m-kfaUNvEvu5",
        "outputId": "33f6d7e3-303e-4546-8383-fa94470366fa"
      },
      "execution_count": 143,
      "outputs": [
        {
          "output_type": "execute_result",
          "data": {
            "text/plain": [
              "array([[32,  7],\n",
              "       [45, 89],\n",
              "       [66, 22]])"
            ]
          },
          "metadata": {},
          "execution_count": 143
        }
      ]
    },
    {
      "cell_type": "markdown",
      "source": [
        "subset"
      ],
      "metadata": {
        "id": "NIpCdLFiE-tw"
      }
    },
    {
      "cell_type": "code",
      "source": [
        "b"
      ],
      "metadata": {
        "colab": {
          "base_uri": "https://localhost:8080/"
        },
        "id": "Z7EdT30kE4w1",
        "outputId": "e99078ae-f678-4733-efac-d8b49feb98b6"
      },
      "execution_count": 144,
      "outputs": [
        {
          "output_type": "execute_result",
          "data": {
            "text/plain": [
              "array([[10, 32,  6,  7,  8],\n",
              "       [90, 45, 32, 89, 50],\n",
              "       [33, 66, 99, 22, 55],\n",
              "       [23, 56, 98, 45, 65]])"
            ]
          },
          "metadata": {},
          "execution_count": 144
        }
      ]
    },
    {
      "cell_type": "code",
      "source": [
        "c = b[1:3,2:-1]#b[1:3, ...]: This part indicates that you want to select rows from index 1 to index 2.\n",
        "\n",
        "\n",
        "c"
      ],
      "metadata": {
        "colab": {
          "base_uri": "https://localhost:8080/"
        },
        "id": "Zv2_IIfRFA1n",
        "outputId": "42441c93-76bb-47c5-d48f-2d5cf6428874"
      },
      "execution_count": 153,
      "outputs": [
        {
          "output_type": "execute_result",
          "data": {
            "text/plain": [
              "array([[32, 89],\n",
              "       [99, 22]])"
            ]
          },
          "metadata": {},
          "execution_count": 153
        }
      ]
    },
    {
      "cell_type": "code",
      "source": [
        "#copy\n",
        "d = b[:2,1:].copy()\n",
        "d"
      ],
      "metadata": {
        "colab": {
          "base_uri": "https://localhost:8080/"
        },
        "id": "trpJVQZnFEEY",
        "outputId": "bbce8440-06a5-4fa5-e285-3e46c5fd713f"
      },
      "execution_count": 154,
      "outputs": [
        {
          "output_type": "execute_result",
          "data": {
            "text/plain": [
              "array([[32,  6,  7,  8],\n",
              "       [45, 32, 89, 50]])"
            ]
          },
          "metadata": {},
          "execution_count": 154
        }
      ]
    },
    {
      "cell_type": "code",
      "source": [
        "d"
      ],
      "metadata": {
        "colab": {
          "base_uri": "https://localhost:8080/"
        },
        "id": "t0UfnSg1F3IJ",
        "outputId": "e9fe0738-9ffc-49a6-af1a-7c8e987a4238"
      },
      "execution_count": 155,
      "outputs": [
        {
          "output_type": "execute_result",
          "data": {
            "text/plain": [
              "array([[32,  6,  7,  8],\n",
              "       [45, 32, 89, 50]])"
            ]
          },
          "metadata": {},
          "execution_count": 155
        }
      ]
    },
    {
      "cell_type": "markdown",
      "source": [
        "selection"
      ],
      "metadata": {
        "id": "puWITgxOG0DR"
      }
    },
    {
      "cell_type": "code",
      "source": [
        "a = np.arange(30, 45)\n",
        "a"
      ],
      "metadata": {
        "colab": {
          "base_uri": "https://localhost:8080/"
        },
        "id": "woKq5QNtGuYY",
        "outputId": "66c20d36-2bcb-458c-92ff-9df23287517f"
      },
      "execution_count": 156,
      "outputs": [
        {
          "output_type": "execute_result",
          "data": {
            "text/plain": [
              "array([30, 31, 32, 33, 34, 35, 36, 37, 38, 39, 40, 41, 42, 43, 44])"
            ]
          },
          "metadata": {},
          "execution_count": 156
        }
      ]
    },
    {
      "cell_type": "code",
      "source": [
        "b = a < 40\n",
        "b"
      ],
      "metadata": {
        "colab": {
          "base_uri": "https://localhost:8080/"
        },
        "id": "qkcZT2BqG14o",
        "outputId": "aa2b2fff-643c-4d1e-8dd5-f0f84c70c4b9"
      },
      "execution_count": 157,
      "outputs": [
        {
          "output_type": "execute_result",
          "data": {
            "text/plain": [
              "array([ True,  True,  True,  True,  True,  True,  True,  True,  True,\n",
              "        True, False, False, False, False, False])"
            ]
          },
          "metadata": {},
          "execution_count": 157
        }
      ]
    },
    {
      "cell_type": "code",
      "source": [
        "a[b]"
      ],
      "metadata": {
        "colab": {
          "base_uri": "https://localhost:8080/"
        },
        "id": "r_hkLn7xG4hC",
        "outputId": "68fe46b5-024d-4453-9de5-daae7b1f6cf7"
      },
      "execution_count": 160,
      "outputs": [
        {
          "output_type": "execute_result",
          "data": {
            "text/plain": [
              "array([30, 31, 32, 33, 34, 35, 36, 37, 38, 39])"
            ]
          },
          "metadata": {},
          "execution_count": 160
        }
      ]
    },
    {
      "cell_type": "code",
      "source": [
        "c = a[a < 35]\n",
        "c"
      ],
      "metadata": {
        "colab": {
          "base_uri": "https://localhost:8080/"
        },
        "id": "6HVvzUqpG9jz",
        "outputId": "e1454132-c010-4bc2-f4e9-8ab2256aaf03"
      },
      "execution_count": 161,
      "outputs": [
        {
          "output_type": "execute_result",
          "data": {
            "text/plain": [
              "array([30, 31, 32, 33, 34])"
            ]
          },
          "metadata": {},
          "execution_count": 161
        }
      ]
    },
    {
      "cell_type": "markdown",
      "source": [
        "##5. NumPy Operations"
      ],
      "metadata": {
        "id": "9qKmxBthHOHZ"
      }
    },
    {
      "cell_type": "code",
      "source": [
        "a = np.arange(10, 25)\n",
        "a"
      ],
      "metadata": {
        "colab": {
          "base_uri": "https://localhost:8080/"
        },
        "id": "sssIr-RAHFrn",
        "outputId": "41864072-e3c5-4344-d942-ef1018bf5e83"
      },
      "execution_count": 162,
      "outputs": [
        {
          "output_type": "execute_result",
          "data": {
            "text/plain": [
              "array([10, 11, 12, 13, 14, 15, 16, 17, 18, 19, 20, 21, 22, 23, 24])"
            ]
          },
          "metadata": {},
          "execution_count": 162
        }
      ]
    },
    {
      "cell_type": "code",
      "source": [
        "a+a"
      ],
      "metadata": {
        "colab": {
          "base_uri": "https://localhost:8080/"
        },
        "id": "iW5XWMaKHR7O",
        "outputId": "6c879e0e-d37f-4168-c1e6-6b1c286053b2"
      },
      "execution_count": 163,
      "outputs": [
        {
          "output_type": "execute_result",
          "data": {
            "text/plain": [
              "array([20, 22, 24, 26, 28, 30, 32, 34, 36, 38, 40, 42, 44, 46, 48])"
            ]
          },
          "metadata": {},
          "execution_count": 163
        }
      ]
    },
    {
      "cell_type": "code",
      "source": [
        "a**a"
      ],
      "metadata": {
        "colab": {
          "base_uri": "https://localhost:8080/"
        },
        "id": "2CFN5ermHTrQ",
        "outputId": "d6b5e691-37c2-4b23-b898-67e4c266628d"
      },
      "execution_count": 164,
      "outputs": [
        {
          "output_type": "execute_result",
          "data": {
            "text/plain": [
              "array([         10000000000,         285311670611,        8916100448256,\n",
              "            302875106592253,    11112006825558016,   437893890380859375,\n",
              "                          0, -2863221430593058543,  -497033925936021504,\n",
              "        6353754964178307979, -2101438300051996672, -1595931050845505211,\n",
              "        4981753131911086080,  8450172506621111015,                    0])"
            ]
          },
          "metadata": {},
          "execution_count": 164
        }
      ]
    },
    {
      "cell_type": "code",
      "source": [
        "np.exp(a) #Exponent of each element"
      ],
      "metadata": {
        "colab": {
          "base_uri": "https://localhost:8080/"
        },
        "id": "ajQ3cfToHW93",
        "outputId": "7443130f-8287-4b5c-e4de-ac8b856fe8b7"
      },
      "execution_count": 166,
      "outputs": [
        {
          "output_type": "execute_result",
          "data": {
            "text/plain": [
              "array([2.20264658e+04, 5.98741417e+04, 1.62754791e+05, 4.42413392e+05,\n",
              "       1.20260428e+06, 3.26901737e+06, 8.88611052e+06, 2.41549528e+07,\n",
              "       6.56599691e+07, 1.78482301e+08, 4.85165195e+08, 1.31881573e+09,\n",
              "       3.58491285e+09, 9.74480345e+09, 2.64891221e+10])"
            ]
          },
          "metadata": {},
          "execution_count": 166
        }
      ]
    },
    {
      "cell_type": "code",
      "source": [
        "np.sqrt(a)  #Square root of each element"
      ],
      "metadata": {
        "colab": {
          "base_uri": "https://localhost:8080/"
        },
        "id": "UfPN3rzLHpyW",
        "outputId": "50863e8f-6264-4c8c-b31d-c058c7c3ec46"
      },
      "execution_count": 167,
      "outputs": [
        {
          "output_type": "execute_result",
          "data": {
            "text/plain": [
              "array([3.16227766, 3.31662479, 3.46410162, 3.60555128, 3.74165739,\n",
              "       3.87298335, 4.        , 4.12310563, 4.24264069, 4.35889894,\n",
              "       4.47213595, 4.58257569, 4.69041576, 4.79583152, 4.89897949])"
            ]
          },
          "metadata": {},
          "execution_count": 167
        }
      ]
    },
    {
      "cell_type": "code",
      "source": [
        "np.square(a) #Square of each element"
      ],
      "metadata": {
        "colab": {
          "base_uri": "https://localhost:8080/"
        },
        "id": "29gnCfyKHsw3",
        "outputId": "16dd7f61-2b7b-4c20-fb94-93b8afaa2e56"
      },
      "execution_count": 168,
      "outputs": [
        {
          "output_type": "execute_result",
          "data": {
            "text/plain": [
              "array([100, 121, 144, 169, 196, 225, 256, 289, 324, 361, 400, 441, 484,\n",
              "       529, 576])"
            ]
          },
          "metadata": {},
          "execution_count": 168
        }
      ]
    },
    {
      "cell_type": "code",
      "source": [
        "np.sin(a)  #Trignometric sine"
      ],
      "metadata": {
        "colab": {
          "base_uri": "https://localhost:8080/"
        },
        "id": "Na_D9O6DHiyX",
        "outputId": "364c4b3d-1eef-465f-a5eb-2094a0ea9b1e"
      },
      "execution_count": 169,
      "outputs": [
        {
          "output_type": "execute_result",
          "data": {
            "text/plain": [
              "array([-0.54402111, -0.99999021, -0.53657292,  0.42016704,  0.99060736,\n",
              "        0.65028784, -0.28790332, -0.96139749, -0.75098725,  0.14987721,\n",
              "        0.91294525,  0.83665564, -0.00885131, -0.8462204 , -0.90557836])"
            ]
          },
          "metadata": {},
          "execution_count": 169
        }
      ]
    },
    {
      "cell_type": "code",
      "source": [
        "np.log(a)  #log"
      ],
      "metadata": {
        "colab": {
          "base_uri": "https://localhost:8080/"
        },
        "id": "o75ziQMAHv2h",
        "outputId": "bec5f28e-7b5d-4be8-ab13-e7c27b9903b0"
      },
      "execution_count": 170,
      "outputs": [
        {
          "output_type": "execute_result",
          "data": {
            "text/plain": [
              "array([2.30258509, 2.39789527, 2.48490665, 2.56494936, 2.63905733,\n",
              "       2.7080502 , 2.77258872, 2.83321334, 2.89037176, 2.94443898,\n",
              "       2.99573227, 3.04452244, 3.09104245, 3.13549422, 3.17805383])"
            ]
          },
          "metadata": {},
          "execution_count": 170
        }
      ]
    },
    {
      "cell_type": "code",
      "source": [
        "np.mean(a)"
      ],
      "metadata": {
        "colab": {
          "base_uri": "https://localhost:8080/"
        },
        "id": "S2SRr3MjHyDi",
        "outputId": "1784516d-7451-45a6-a6e2-b6d4eca8a128"
      },
      "execution_count": 171,
      "outputs": [
        {
          "output_type": "execute_result",
          "data": {
            "text/plain": [
              "17.0"
            ]
          },
          "metadata": {},
          "execution_count": 171
        }
      ]
    },
    {
      "cell_type": "markdown",
      "source": [
        "python\n",
        "\n",
        "data = np.array([1, 2, 3, 4, 5])\n",
        "\n",
        "sum_data = np.sum(data)           # Output: 15\n",
        "mean_data = np.mean(data)         # Output: 3.0\n",
        "median_data = np.median(data)     # Output: 3.0\n",
        "std_dev_data = np.std(data)       # Output: 1.41421356\n",
        "variance_data = np.var(data)  "
      ],
      "metadata": {
        "id": "VCp_0flgH4tw"
      }
    },
    {
      "cell_type": "code",
      "source": [
        "a = np.random.rand(4,5)\n",
        "a"
      ],
      "metadata": {
        "colab": {
          "base_uri": "https://localhost:8080/"
        },
        "id": "vxNPzStYH2G4",
        "outputId": "e00e2d91-686a-40c8-97c1-26223157b7a5"
      },
      "execution_count": 172,
      "outputs": [
        {
          "output_type": "execute_result",
          "data": {
            "text/plain": [
              "array([[0.5270581 , 0.8859421 , 0.35726976, 0.90853515, 0.62336012],\n",
              "       [0.01582124, 0.92943723, 0.69089692, 0.99732285, 0.17234051],\n",
              "       [0.13713575, 0.93259546, 0.69681816, 0.06600017, 0.75546305],\n",
              "       [0.75387619, 0.92302454, 0.71152476, 0.12427096, 0.01988013]])"
            ]
          },
          "metadata": {},
          "execution_count": 172
        }
      ]
    },
    {
      "cell_type": "code",
      "source": [
        "np.round(a,2)  #rounding to 2 decimal places"
      ],
      "metadata": {
        "colab": {
          "base_uri": "https://localhost:8080/"
        },
        "id": "oIJU5gVqIB_2",
        "outputId": "48095c67-5302-445f-e908-3cf868a11ecb"
      },
      "execution_count": 173,
      "outputs": [
        {
          "output_type": "execute_result",
          "data": {
            "text/plain": [
              "array([[0.53, 0.89, 0.36, 0.91, 0.62],\n",
              "       [0.02, 0.93, 0.69, 1.  , 0.17],\n",
              "       [0.14, 0.93, 0.7 , 0.07, 0.76],\n",
              "       [0.75, 0.92, 0.71, 0.12, 0.02]])"
            ]
          },
          "metadata": {},
          "execution_count": 173
        }
      ]
    },
    {
      "cell_type": "code",
      "source": [
        "np.round(a)  #rounding to 0 decimal places"
      ],
      "metadata": {
        "colab": {
          "base_uri": "https://localhost:8080/"
        },
        "id": "FY6o12w2IENF",
        "outputId": "6c013e55-2d79-42ca-e9a4-5d42b334c751"
      },
      "execution_count": 174,
      "outputs": [
        {
          "output_type": "execute_result",
          "data": {
            "text/plain": [
              "array([[1., 1., 0., 1., 1.],\n",
              "       [0., 1., 1., 1., 0.],\n",
              "       [0., 1., 1., 0., 1.],\n",
              "       [1., 1., 1., 0., 0.]])"
            ]
          },
          "metadata": {},
          "execution_count": 174
        }
      ]
    },
    {
      "cell_type": "code",
      "source": [
        "np.std(a)  #Calculate standard variance"
      ],
      "metadata": {
        "colab": {
          "base_uri": "https://localhost:8080/"
        },
        "id": "e5UUNGlnIGe3",
        "outputId": "1c0d76dc-ad8d-41db-f681-43a08627779b"
      },
      "execution_count": 175,
      "outputs": [
        {
          "output_type": "execute_result",
          "data": {
            "text/plain": [
              "0.3433423334260191"
            ]
          },
          "metadata": {},
          "execution_count": 175
        }
      ]
    },
    {
      "cell_type": "code",
      "source": [
        "np.var(a) #Calculate variance"
      ],
      "metadata": {
        "colab": {
          "base_uri": "https://localhost:8080/"
        },
        "id": "Fy-DFMHdIJeX",
        "outputId": "424c0477-245a-4b76-a75f-5495ace547f3"
      },
      "execution_count": 176,
      "outputs": [
        {
          "output_type": "execute_result",
          "data": {
            "text/plain": [
              "0.11788395792242368"
            ]
          },
          "metadata": {},
          "execution_count": 176
        }
      ]
    },
    {
      "cell_type": "code",
      "source": [
        "np.mean(a) #Mean / average"
      ],
      "metadata": {
        "colab": {
          "base_uri": "https://localhost:8080/"
        },
        "id": "3u7LZqPgIL08",
        "outputId": "d1209c4c-272e-4715-ce0e-388e9caed26b"
      },
      "execution_count": 177,
      "outputs": [
        {
          "output_type": "execute_result",
          "data": {
            "text/plain": [
              "0.5614286579557584"
            ]
          },
          "metadata": {},
          "execution_count": 177
        }
      ]
    },
    {
      "cell_type": "code",
      "source": [
        "np.unique(a)"
      ],
      "metadata": {
        "colab": {
          "base_uri": "https://localhost:8080/"
        },
        "id": "_zYlQQ_1INkl",
        "outputId": "de3bf5c6-e862-413e-da76-551af10e327c"
      },
      "execution_count": 178,
      "outputs": [
        {
          "output_type": "execute_result",
          "data": {
            "text/plain": [
              "array([0.01582124, 0.01988013, 0.06600017, 0.12427096, 0.13713575,\n",
              "       0.17234051, 0.35726976, 0.5270581 , 0.62336012, 0.69089692,\n",
              "       0.69681816, 0.71152476, 0.75387619, 0.75546305, 0.8859421 ,\n",
              "       0.90853515, 0.92302454, 0.92943723, 0.93259546, 0.99732285])"
            ]
          },
          "metadata": {},
          "execution_count": 178
        }
      ]
    },
    {
      "cell_type": "code",
      "source": [
        "# Create a 2D array and a 1D array\n",
        "A = np.array([[1, 2, 3], [4, 5, 6]])\n",
        "B = np.array([1, 2, 3])\n",
        "\n",
        "# Broadcasting the 1D array B to the shape of A\n",
        "C = A + B  # Output: array([[2, 4, 6], [5, 7, 9]])\n",
        "C"
      ],
      "metadata": {
        "colab": {
          "base_uri": "https://localhost:8080/"
        },
        "id": "0TkjWLV4IQV4",
        "outputId": "d78bed5e-c5ce-4f3a-e32a-6499c382e1f0"
      },
      "execution_count": 180,
      "outputs": [
        {
          "output_type": "execute_result",
          "data": {
            "text/plain": [
              "array([[2, 4, 6],\n",
              "       [5, 7, 9]])"
            ]
          },
          "metadata": {},
          "execution_count": 180
        }
      ]
    },
    {
      "cell_type": "markdown",
      "source": [
        "##6. Storing and reading NumPy"
      ],
      "metadata": {
        "id": "NMCO2ub2Ih1V"
      }
    },
    {
      "cell_type": "markdown",
      "source": [
        "Saving and Restoring"
      ],
      "metadata": {
        "id": "G5tsrOdeIl7J"
      }
    },
    {
      "cell_type": "code",
      "source": [
        "array_1 = np.arange(10, 20)\n",
        "array_2 = np.arange(30,50, 3)"
      ],
      "metadata": {
        "id": "QFh7kHr-IX_D"
      },
      "execution_count": 181,
      "outputs": []
    },
    {
      "cell_type": "code",
      "source": [
        "np.save('ar1file',  #File name , will be saved with .npy extension\n",
        "        array_1 ) #Array to be saved"
      ],
      "metadata": {
        "id": "mPdZs2QVIqi1"
      },
      "execution_count": 184,
      "outputs": []
    },
    {
      "cell_type": "code",
      "source": [
        "import numpy as np\n",
        "\n",
        "# Create a NumPy array\n",
        "array_1 = np.array([1, 2, 3, 4, 5])\n",
        "\n",
        "# Save the array to a file\n",
        "np.save('ar1file', array_1)\n",
        "\n",
        "# The array is now saved to 'ar1file.npy'\n"
      ],
      "metadata": {
        "id": "gSa2QgCNI_cE"
      },
      "execution_count": 185,
      "outputs": []
    },
    {
      "cell_type": "code",
      "source": [
        "loaded_array = np.load('ar1file.npy')\n",
        "print(loaded_array)  # Output: [1 2 3 4 5]\n"
      ],
      "metadata": {
        "colab": {
          "base_uri": "https://localhost:8080/"
        },
        "id": "_4p0349XJCrh",
        "outputId": "d2b9999d-f3f7-44b2-ebb0-1e287ae1f31c"
      },
      "execution_count": 186,
      "outputs": [
        {
          "output_type": "stream",
          "name": "stdout",
          "text": [
            "[1 2 3 4 5]\n"
          ]
        }
      ]
    },
    {
      "cell_type": "code",
      "source": [
        "!ls -l"
      ],
      "metadata": {
        "colab": {
          "base_uri": "https://localhost:8080/"
        },
        "id": "HWIAqNHOItta",
        "outputId": "828642aa-c1e1-4bd4-e32a-b965dac7662c"
      },
      "execution_count": 183,
      "outputs": [
        {
          "output_type": "stream",
          "name": "stdout",
          "text": [
            "total 8\n",
            "-rw-r--r-- 1 root root  208 Nov 24 07:46 ar1file.npy\n",
            "drwxr-xr-x 1 root root 4096 Nov 21 14:25 sample_data\n"
          ]
        }
      ]
    },
    {
      "cell_type": "code",
      "source": [
        "np.load('ar1file.npy')"
      ],
      "metadata": {
        "colab": {
          "base_uri": "https://localhost:8080/"
        },
        "id": "7Z6jNi5KIwKL",
        "outputId": "33ce3cdb-2989-4c88-e1a3-082edda9a943"
      },
      "execution_count": 187,
      "outputs": [
        {
          "output_type": "execute_result",
          "data": {
            "text/plain": [
              "array([1, 2, 3, 4, 5])"
            ]
          },
          "metadata": {},
          "execution_count": 187
        }
      ]
    },
    {
      "cell_type": "code",
      "source": [],
      "metadata": {
        "id": "NdLG3tMiJGQZ"
      },
      "execution_count": null,
      "outputs": []
    }
  ]
}